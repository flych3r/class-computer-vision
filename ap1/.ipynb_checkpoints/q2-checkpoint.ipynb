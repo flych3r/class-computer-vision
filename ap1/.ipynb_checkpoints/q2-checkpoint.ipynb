{
 "cells": [
  {
   "cell_type": "code",
   "execution_count": 1,
   "metadata": {},
   "outputs": [],
   "source": [
    "import cv2\n",
    "import matplotlib.pyplot as plt\n",
    "import numpy as np"
   ]
  },
  {
   "cell_type": "code",
   "execution_count": 42,
   "metadata": {},
   "outputs": [
    {
     "data": {
      "image/png": "[encoded data removed]",
      "text/plain": [
       "<Figure size 432x288 with 1 Axes>"
      ]
     },
     "metadata": {
      "needs_background": "dark"
     },
     "output_type": "display_data"
    }
   ],
   "source": [
    "img_2 = cv2.imread('imagens/2.bmp', 0)\n",
    "plt.imshow(img_2, cmap='gray');"
   ]
  },
  {
   "cell_type": "code",
   "execution_count": 43,
   "metadata": {},
   "outputs": [
    {
     "data": {
      "text/plain": [
       "array([[ 11, 226, 255, 178,   0,  22,   7, 185, 252,  30, 202, 254,   6,\n",
       "        235, 144,   6,  12,  30,  12, 254, 156,   0,   3,  10, 255,   2,\n",
       "         13,  26, 162,   0],\n",
       "       [ 31,  15, 217, 242, 136,   3, 150, 151,  11, 143,  11,  10,   3,\n",
       "        160, 206, 156, 199, 248,   0, 195,  17,  20,  23, 137,  20, 193,\n",
       "          2, 246, 245,   0],\n",
       "       [242, 215,   6,   9,  24,   3, 242,  10, 245,  14, 210, 197,  23,\n",
       "          5,  23,   4,  25,   1, 220,   6, 208,   1, 178,   3,  26,  23,\n",
       "         22, 157,  28,   0],\n",
       "       [ 21,  31, 129,   2,   9,  25,  22, 192,   0,  20, 193, 241, 253,\n",
       "        223,  25, 185,  29, 184,  21,  27,  25, 164,   3, 136, 214,  13,\n",
       "         12,  12,   2,   0],\n",
       "       [200, 147, 191,  25, 210,  24, 211,  15, 195,  25,  25, 142, 174,\n",
       "         23, 225, 187,  26,  24, 241, 166,  10, 213, 184,  11, 196, 154,\n",
       "        221, 226,  18,   0],\n",
       "       [  9, 218,  19, 230, 201,  27,  16, 217,   5, 216,   9,   8,  20,\n",
       "        166,   1, 213,  10, 176, 147,  27, 190,  18,  21, 238, 225,  23,\n",
       "        246,  20,   6,   0],\n",
       "       [ 20, 168,   2, 199, 243,  23, 200, 255,  21,  20,  31, 220,   2,\n",
       "         24, 201,  14,  14,   1, 168,  17,  19,  12,  29, 162,  13, 222,\n",
       "          5,  27, 192,   0],\n",
       "       [ 19,  22,  25, 220, 162,   2,  19, 208,  24,   9,   3,   5, 246,\n",
       "         27, 133, 218,  13, 146,  23, 161, 171,  18, 244, 185, 186,   1,\n",
       "        234, 142, 139,   0],\n",
       "       [ 24, 240,  23, 144, 175,   2,  22,   6, 132, 246,  31, 163,   5,\n",
       "        159, 250, 203, 215, 239,  31,  25, 140, 156,  23, 185, 169, 142,\n",
       "        176,  26,  18,   0],\n",
       "       [ 19,  20,   0,   0,   2, 228,  27, 247, 133, 137,  11,   4,   0,\n",
       "        209,  21,   6,   6,  16,  25,   1,  17, 154, 173, 235, 140,  10,\n",
       "         21, 173,  23,   0],\n",
       "       [ 13, 166, 214, 251,  18,   4,  19,  18,  23, 239,  72, 101, 108,\n",
       "        108, 111,  32, 119, 111, 114, 108, 100,  17, 185, 173,  15,  10,\n",
       "          5,  24, 177,   0],\n",
       "       [ 26,   8,  16,  23,  31, 205,  21,  18, 147,  19, 162, 159, 154,\n",
       "        195, 202,  22, 249, 235,  13,   1, 140, 249,  31, 154,  30, 209,\n",
       "         12, 251, 201,   0],\n",
       "       [ 11, 212, 250, 147, 195,  21, 135,  20, 245, 253,   1,   7,  29,\n",
       "        204,  23,  20,  27,   7,  10, 195, 145,   1, 189,  12, 146, 168,\n",
       "        180,  10, 142,   0],\n",
       "       [  1, 199, 199, 238, 222,  28, 188,  12,  23,  28, 189, 156, 188,\n",
       "          3,  25,   8, 231, 184,  20,   5, 166,  28, 184,  15, 153, 165,\n",
       "          2, 168, 131,   0],\n",
       "       [211,  11,  12, 181, 165,   4, 255,  20, 143, 165,  16, 168, 214,\n",
       "        246,  18,  30,  11, 219, 196,   3, 195,  13, 222,  16,  24, 198,\n",
       "         30,  14, 204,   0],\n",
       "       [ 13,  29, 228, 189, 236, 170, 233, 218,   6, 210, 211, 129, 157,\n",
       "         17, 214,   8, 139, 245,   3,  24, 254, 206, 154,  27,  21,   6,\n",
       "        178, 206,   0,   0],\n",
       "       [ 19,  17,  17,  18,   0, 212, 147, 132, 157, 203, 244, 232,   3,\n",
       "        176,  14, 190, 229, 252,  31,  20, 253,  10, 144,   3, 250,  22,\n",
       "        219,  22, 244,   0],\n",
       "       [131, 151,  31, 177, 162,   9,   2,  25, 195,  10,  24,  16, 232,\n",
       "        151, 232, 208,  19, 200, 241,  24,  26, 178, 149,  25,  29,   9,\n",
       "         31,  13, 254,   0],\n",
       "       [  5,  31,   2, 133,  18,   1,   6, 156,  23, 252, 141, 138,  30,\n",
       "         21, 166,   8,  16, 151, 182,  10, 206, 146, 240,   8,  10, 242,\n",
       "         12, 232,   2,   0],\n",
       "       [165,   1,   1,  11, 164, 176, 195, 198,  20, 251, 238,  18, 148,\n",
       "         24, 255, 239, 193, 247,  31, 144,  11,  21, 182,   2, 172,   9,\n",
       "        156,   4, 153,   0],\n",
       "       [ 11, 196,  24,  23,   7,   1, 164, 193,   5, 150, 206, 149, 132,\n",
       "          3, 135,  31, 186, 237, 189,  10,   0,  12,  20,  12,   6,  29,\n",
       "          6, 139, 170,   0],\n",
       "       [  3, 188,  29, 176, 219, 219,   6, 155,  12,   7, 174, 236,  27,\n",
       "         29, 165,   1, 249, 131, 168,  16, 141, 158,  14, 152, 248, 196,\n",
       "        166, 239, 210,   0],\n",
       "       [ 26,  23, 199,  23, 249,  22, 250, 221,  30, 237,  29,  13,  28,\n",
       "        143,  27, 175,  18, 176, 236,   2, 162,  15, 254, 179,  14,   0,\n",
       "        250,   7, 184,   0],\n",
       "       [ 21, 246, 192,  13,  29,  17, 215,   4,  13,  20, 237,  11,   9,\n",
       "         23, 221, 195, 184, 160, 130,   3, 131,  21,   3, 241, 130, 247,\n",
       "         27,  14,   2,   0],\n",
       "       [188, 191, 254, 203, 190, 169, 199, 155, 230,   1, 199, 153, 255,\n",
       "        229,  11, 218,   7,  24,  12, 251, 208,   3, 179,  24, 220,   1,\n",
       "        238, 186, 139,   0],\n",
       "       [ 18,  28,  23,  11,  27,   9,   4, 192,   2,  20, 194,   4,   3,\n",
       "         31, 211,  17, 130, 241,   2,  19,  22,  12, 213,   2,  27, 188,\n",
       "        248, 142, 151,   0],\n",
       "       [165, 255, 200, 225,  30, 215, 216,  14,   8,  17,  21, 216, 148,\n",
       "          1,   8, 176,  30,  14,  13,  16,  15,  23, 130, 161, 179, 252,\n",
       "         30, 199,  16,   0],\n",
       "       [224, 186,  30,   3, 204, 234,  15, 231, 207, 203,  12, 164, 210,\n",
       "        255,  16,  31,  21, 227, 242, 174,   9, 156,  12,  30,  26, 157,\n",
       "         31,   3, 197,   0],\n",
       "       [249,   4,  11, 252,  28, 220, 209,   1, 198,  26,  29,   8,  19,\n",
       "         10, 168, 137,  12,  12,  26,  26,  13, 155, 211,  16,  21,  30,\n",
       "         19, 131,  11,   0],\n",
       "       [  0,   0,   0,   0,   0,   0,   0,   0,   0,   0,   0,   0,   0,\n",
       "          0,   0,   0,   0,   0,   0,   0,   0,   0,   0,   0,   0,   0,\n",
       "          0,   0,   0,   0]], dtype=uint8)"
      ]
     },
     "execution_count": 43,
     "metadata": {},
     "output_type": "execute_result"
    }
   ],
   "source": [
    "img_2"
   ]
  },
  {
   "cell_type": "code",
   "execution_count": 44,
   "metadata": {},
   "outputs": [
    {
     "data": {
      "text/plain": [
       "(30, 30)"
      ]
     },
     "execution_count": 44,
     "metadata": {},
     "output_type": "execute_result"
    }
   ],
   "source": [
    "img_2.shape"
   ]
  },
  {
   "cell_type": "code",
   "execution_count": 52,
   "metadata": {},
   "outputs": [],
   "source": [
    "ascii_ = ((img_2 <= 127) & (img_2 >= 32))"
   ]
  },
  {
   "cell_type": "code",
   "execution_count": 57,
   "metadata": {},
   "outputs": [
    {
     "name": "stdout",
     "output_type": "stream",
     "text": [
      "Hello world\n"
     ]
    }
   ],
   "source": [
    "print(''.join(list(map(chr, img_2[ascii_]))))"
   ]
  },
  {
   "cell_type": "code",
   "execution_count": null,
   "metadata": {},
   "outputs": [],
   "source": []
  }
 ],
 "metadata": {
  "kernelspec": {
   "display_name": "Python 3",
   "language": "python",
   "name": "python3"
  },
  "language_info": {
   "codemirror_mode": {
    "name": "ipython",
    "version": 3
   },
   "file_extension": ".py",
   "mimetype": "text/x-python",
   "name": "python",
   "nbconvert_exporter": "python",
   "pygments_lexer": "ipython3",
   "version": "3.6.7"
  }
 },
 "nbformat": 4,
 "nbformat_minor": 4
}
