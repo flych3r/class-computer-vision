{
 "cells": [
  {
   "cell_type": "code",
   "execution_count": 2,
   "metadata": {},
   "outputs": [],
   "source": [
    "import cv2\n",
    "import matplotlib.pyplot as plt\n",
    "import numpy as np"
   ]
  },
  {
   "cell_type": "code",
   "execution_count": 5,
   "metadata": {},
   "outputs": [
    {
     "data": {
      "image/png": "[encoded data removed]",
      "text/plain": [
       "<Figure size 432x288 with 1 Axes>"
      ]
     },
     "metadata": {
      "needs_background": "dark"
     },
     "output_type": "display_data"
    }
   ],
   "source": [
    "img_1a = cv2.imread('imagens/1a.jpg')\n",
    "img_1a = cv2.cvtColor(img_1a, cv2.COLOR_BGR2RGB)\n",
    "plt.imshow(img_1a);"
   ]
  },
  {
   "cell_type": "code",
   "execution_count": 6,
   "metadata": {},
   "outputs": [
    {
     "data": {
      "image/png": "[encoded data removed]",
      "text/plain": [
       "<Figure size 432x288 with 1 Axes>"
      ]
     },
     "metadata": {
      "needs_background": "dark"
     },
     "output_type": "display_data"
    }
   ],
   "source": [
    "img_1b = cv2.imread('imagens/1b.jpg')\n",
    "img_1b = cv2.cvtColor(img_1b, cv2.COLOR_BGR2RGB)\n",
    "plt.imshow(img_1b);"
   ]
  },
  {
   "cell_type": "code",
   "execution_count": 7,
   "metadata": {},
   "outputs": [
    {
     "data": {
      "image/png": "[encoded data removed]",
      "text/plain": [
       "<Figure size 432x288 with 1 Axes>"
      ]
     },
     "metadata": {
      "needs_background": "dark"
     },
     "output_type": "display_data"
    }
   ],
   "source": [
    "img_1c = cv2.imread('imagens/1c.jpg')\n",
    "img_1c = cv2.cvtColor(img_1c, cv2.COLOR_BGR2RGB)\n",
    "plt.imshow(img_1c);"
   ]
  },
  {
   "cell_type": "code",
   "execution_count": 128,
   "metadata": {},
   "outputs": [
    {
     "data": {
      "image/png": "[encoded data removed]",
      "text/plain": [
       "<Figure size 432x288 with 1 Axes>"
      ]
     },
     "metadata": {
      "needs_background": "dark"
     },
     "output_type": "display_data"
    }
   ],
   "source": [
    "bins = 8\n",
    "hist_1a_r = cv2.calcHist(img_1a[:,:,0], [0], None, [bins], [0, bins])\n",
    "hist_1a_g = cv2.calcHist(img_1a[:,:,1], [0], None, [bins], [0, bins])\n",
    "hist_1a_b = cv2.calcHist(img_1a[:,:,2], [0], None, [bins], [0, bins])\n",
    "x_coord = np.arange(bins)\n",
    "plt.bar(x_coord, hist_1a_r.reshape(-1), color='red')\n",
    "plt.bar(x_coord, hist_1a_g.reshape(-1), color='green')\n",
    "plt.bar(x_coord, hist_1a_b.reshape(-1), color='blue')\n",
    "plt.xlim([0, bins])\n",
    "plt.show()"
   ]
  },
  {
   "cell_type": "code",
   "execution_count": 129,
   "metadata": {},
   "outputs": [
    {
     "data": {
      "image/png": "[encoded data removed]",
      "text/plain": [
       "<Figure size 432x288 with 1 Axes>"
      ]
     },
     "metadata": {
      "needs_background": "dark"
     },
     "output_type": "display_data"
    }
   ],
   "source": [
    "bins = 8\n",
    "hist_1b_r = cv2.calcHist(img_1b[:,:,0], [0], None, [bins], [0, bins])\n",
    "hist_1b_g = cv2.calcHist(img_1b[:,:,1], [0], None, [bins], [0, bins])\n",
    "hist_1b_b = cv2.calcHist(img_1b[:,:,2], [0], None, [bins], [0, bins])\n",
    "x_coord = np.arange(bins)\n",
    "plt.bar(x_coord, hist_1b_r.reshape(-1), color='red')\n",
    "plt.bar(x_coord, hist_1b_g.reshape(-1), color='green')\n",
    "plt.bar(x_coord, hist_1b_b.reshape(-1), color='blue')\n",
    "plt.xlim([0, bins])\n",
    "plt.show()"
   ]
  },
  {
   "cell_type": "code",
   "execution_count": 132,
   "metadata": {},
   "outputs": [
    {
     "data": {
      "image/png": "[encoded data removed]",
      "text/plain": [
       "<Figure size 432x288 with 1 Axes>"
      ]
     },
     "metadata": {
      "needs_background": "dark"
     },
     "output_type": "display_data"
    }
   ],
   "source": [
    "bins = 8\n",
    "hist_1c_r = cv2.calcHist(img_1c[:,:,0], [0], None, [bins], [0, bins])\n",
    "hist_1c_g = cv2.calcHist(img_1c[:,:,1], [0], None, [bins], [0, bins])\n",
    "hist_1c_b = cv2.calcHist(img_1c[:,:,2], [0], None, [bins], [0, bins])\n",
    "x_coord = np.arange(bins)\n",
    "plt.bar(x_coord, hist_1c_r.reshape(-1), color='red')\n",
    "plt.bar(x_coord, hist_1c_g.reshape(-1), color='green')\n",
    "plt.bar(x_coord, hist_1c_b.reshape(-1), color='blue')\n",
    "plt.xlim([0, bins])\n",
    "plt.show()"
   ]
  },
  {
   "cell_type": "markdown",
   "metadata": {},
   "source": [
    "Em cada pixel, encontro a cor dominante com np.argmax(img, axis=2)\n",
    "\n",
    "Pra cada cor dominante encontrada em cada pixel, conto quantas vezes ela aparece"
   ]
  },
  {
   "cell_type": "code",
   "execution_count": 176,
   "metadata": {},
   "outputs": [],
   "source": [
    "def get_dominant_color(img, n):\n",
    "    pix_wise = np.argmax(img, axis=2)\n",
    "    color, count = np.unique(pix_wise, return_counts=True)\n",
    "    dominant = np.argmax(count)\n",
    "    if dominant == 0:\n",
    "        print('Dominant color in image {}a is red'.format(n))\n",
    "    elif dominant == 1:\n",
    "        print('Dominant color in image {}a is green'.format(n))\n",
    "    else:\n",
    "        print('Dominant color in image {}a is blue'.format(n))\n",
    "    return pix_wise, (color, count)"
   ]
  },
  {
   "cell_type": "code",
   "execution_count": 177,
   "metadata": {},
   "outputs": [
    {
     "name": "stdout",
     "output_type": "stream",
     "text": [
      "Dominant color in image 1a is red\n"
     ]
    },
    {
     "data": {
      "text/plain": [
       "(array([[2, 2, 2, 1, 1, 0, 0, 0, 2, 2],\n",
       "        [2, 2, 2, 1, 0, 0, 0, 0, 0, 1],\n",
       "        [0, 0, 0, 0, 0, 0, 0, 0, 0, 1],\n",
       "        [0, 0, 0, 0, 0, 0, 0, 0, 1, 1],\n",
       "        [2, 2, 1, 0, 0, 0, 0, 1, 1, 1],\n",
       "        [1, 1, 1, 1, 1, 1, 1, 1, 0, 0],\n",
       "        [0, 0, 2, 2, 1, 1, 0, 0, 0, 0],\n",
       "        [0, 0, 0, 2, 1, 1, 0, 0, 2, 2],\n",
       "        [0, 0, 1, 1, 0, 0, 2, 2, 2, 2],\n",
       "        [0, 0, 1, 1, 0, 0, 2, 2, 2, 1]]),\n",
       " (array([0, 1, 2]), array([50, 28, 22])))"
      ]
     },
     "execution_count": 177,
     "metadata": {},
     "output_type": "execute_result"
    }
   ],
   "source": [
    "get_dominant_color(img_1a, '1')"
   ]
  },
  {
   "cell_type": "code",
   "execution_count": 178,
   "metadata": {},
   "outputs": [
    {
     "name": "stdout",
     "output_type": "stream",
     "text": [
      "Dominant color in image 2a is red\n"
     ]
    },
    {
     "data": {
      "text/plain": [
       "(array([[0, 1, 1, 1, 1, 0, 2, 2, 1, 1],\n",
       "        [1, 1, 1, 1, 0, 0, 2, 2, 1, 1],\n",
       "        [1, 1, 1, 1, 0, 0, 2, 2, 2, 1],\n",
       "        [1, 1, 1, 1, 0, 0, 0, 2, 2, 1],\n",
       "        [0, 1, 1, 2, 2, 2, 0, 0, 1, 1],\n",
       "        [0, 0, 1, 2, 2, 0, 0, 0, 0, 0],\n",
       "        [1, 0, 0, 0, 0, 0, 0, 0, 0, 0],\n",
       "        [1, 0, 0, 0, 0, 0, 0, 0, 0, 0],\n",
       "        [1, 0, 0, 0, 0, 0, 2, 2, 0, 0],\n",
       "        [1, 0, 0, 0, 0, 0, 2, 2, 2, 0]]),\n",
       " (array([0, 1, 2]), array([50, 31, 19])))"
      ]
     },
     "execution_count": 178,
     "metadata": {},
     "output_type": "execute_result"
    }
   ],
   "source": [
    "get_dominant_color(img_1b, '2')"
   ]
  },
  {
   "cell_type": "code",
   "execution_count": 179,
   "metadata": {},
   "outputs": [
    {
     "name": "stdout",
     "output_type": "stream",
     "text": [
      "Dominant color in image 3a is blue\n"
     ]
    },
    {
     "data": {
      "text/plain": [
       "(array([[1, 0, 0, 0, 0, 0, 2, 2, 2, 2],\n",
       "        [1, 1, 2, 2, 0, 2, 2, 2, 2, 2],\n",
       "        [1, 1, 2, 2, 2, 2, 2, 2, 1, 1],\n",
       "        [1, 1, 2, 2, 2, 2, 2, 1, 1, 1],\n",
       "        [0, 0, 2, 2, 2, 2, 2, 0, 1, 1],\n",
       "        [0, 0, 0, 0, 2, 2, 2, 0, 0, 0],\n",
       "        [1, 2, 2, 2, 2, 2, 2, 2, 0, 0],\n",
       "        [2, 2, 0, 2, 2, 2, 2, 2, 0, 0],\n",
       "        [0, 0, 0, 0, 0, 0, 0, 2, 0, 0],\n",
       "        [0, 0, 0, 0, 0, 0, 0, 0, 0, 0]]),\n",
       " (array([0, 1, 2]), array([40, 15, 45])))"
      ]
     },
     "execution_count": 179,
     "metadata": {},
     "output_type": "execute_result"
    }
   ],
   "source": [
    "get_dominant_color(img_1c, '3')"
   ]
  },
  {
   "cell_type": "code",
   "execution_count": null,
   "metadata": {},
   "outputs": [],
   "source": []
  }
 ],
 "metadata": {
  "kernelspec": {
   "display_name": "Python 3",
   "language": "python",
   "name": "python3"
  },
  "language_info": {
   "codemirror_mode": {
    "name": "ipython",
    "version": 3
   },
   "file_extension": ".py",
   "mimetype": "text/x-python",
   "name": "python",
   "nbconvert_exporter": "python",
   "pygments_lexer": "ipython3",
   "version": "3.6.7"
  },
  "varInspector": {
   "cols": {
    "lenName": 16,
    "lenType": 16,
    "lenVar": 40
   },
   "kernels_config": {
    "python": {
     "delete_cmd_postfix": "",
     "delete_cmd_prefix": "del ",
     "library": "var_list.py",
     "varRefreshCmd": "print(var_dic_list())"
    },
    "r": {
     "delete_cmd_postfix": ") ",
     "delete_cmd_prefix": "rm(",
     "library": "var_list.r",
     "varRefreshCmd": "cat(var_dic_list()) "
    }
   },
   "types_to_exclude": [
    "module",
    "function",
    "builtin_function_or_method",
    "instance",
    "_Feature"
   ],
   "window_display": false
  }
 },
 "nbformat": 4,
 "nbformat_minor": 4
}
