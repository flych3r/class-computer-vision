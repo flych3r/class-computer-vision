{
 "cells": [
  {
   "cell_type": "code",
   "execution_count": 1,
   "metadata": {},
   "outputs": [],
   "source": [
    "import cv2\n",
    "import numpy as np\n",
    "import numba"
   ]
  },
  {
   "cell_type": "code",
   "execution_count": 2,
   "metadata": {},
   "outputs": [],
   "source": [
    "def show(image):\n",
    "    cv2.imshow('image', image)\n",
    "    cv2.waitKey(0)\n",
    "    cv2.destroyAllWindows()"
   ]
  },
  {
   "cell_type": "code",
   "execution_count": 3,
   "metadata": {},
   "outputs": [],
   "source": [
    "im = cv2.imread('exercicio/3.jpg')\n",
    "# show(im)"
   ]
  },
  {
   "cell_type": "code",
   "execution_count": 4,
   "metadata": {},
   "outputs": [],
   "source": [
    "# calcula a média de intensidade dos 3 canais\n",
    "b_avg = im[:, :, 0].mean()\n",
    "g_avg = im[:, :, 1].mean()\n",
    "r_avg = im[:, :, 2].mean()"
   ]
  },
  {
   "cell_type": "code",
   "execution_count": null,
   "metadata": {},
   "outputs": [],
   "source": []
  },
  {
   "cell_type": "code",
   "execution_count": 5,
   "metadata": {},
   "outputs": [],
   "source": [
    "# a = np.max(np.array([b_avg, g_avg, r_avg]))\n",
    "a = im.max()"
   ]
  },
  {
   "cell_type": "code",
   "execution_count": 6,
   "metadata": {},
   "outputs": [
    {
     "data": {
      "text/plain": [
       "255"
      ]
     },
     "execution_count": 6,
     "metadata": {},
     "output_type": "execute_result"
    }
   ],
   "source": [
    "a"
   ]
  },
  {
   "cell_type": "code",
   "execution_count": null,
   "metadata": {},
   "outputs": [],
   "source": []
  },
  {
   "cell_type": "code",
   "execution_count": 7,
   "metadata": {},
   "outputs": [],
   "source": [
    "# multiplica cada canal por um fator de sua média de intensidade\n",
    "im_wb = im * [1 / a, 1 / a, 1 / a]\n",
    "final = np.hstack((im_wb, im))\n",
    "cv2.imshow('janela',im_wb)\n",
    "show(im)"
   ]
  },
  {
   "cell_type": "code",
   "execution_count": 12,
   "metadata": {},
   "outputs": [],
   "source": [
    "# multiplica cada canal por um fator de sua média de intensidade\n",
    "im_wb = im * [1 / b_avg, 1 / g_avg, 1 / r_avg]\n",
    "show(im_wb)"
   ]
  },
  {
   "cell_type": "code",
   "execution_count": 6,
   "metadata": {},
   "outputs": [],
   "source": [
    "# L – Lightness ( Intensity ).\n",
    "# a – color component ranging from Green to Magenta.\n",
    "# b – color component ranging from Blue to Yellow.\n",
    "\n",
    "@numba.jit\n",
    "def white_balance(img, wb):\n",
    "    cold = 1- wb\n",
    "    warm = wb\n",
    "    result = cv2.cvtColor(img, cv2.COLOR_BGR2LAB)\n",
    "    avg_A = np.average(result[:, :, 1])\n",
    "    avg_B = np.average(result[:, :, 2])\n",
    "    for x in range(result.shape[0]):\n",
    "        for y in range(result.shape[1]):\n",
    "            L, A, B = result[x, y, :]\n",
    "            \n",
    "            L = L * 100 / 255 # invertendo L = L * 255 / 100\n",
    "            result[x, y, 1] = A - ((avg_A - 128) * (L / 100) * cold) # invertendo A = A + 128\n",
    "            result[x, y, 2] = B - ((avg_B - 128) * (L / 100) * warm) # invertendo B = B + 128\n",
    "    result = cv2.cvtColor(result, cv2.COLOR_LAB2BGR)\n",
    "    return result"
   ]
  },
  {
   "cell_type": "code",
   "execution_count": 7,
   "metadata": {},
   "outputs": [],
   "source": [
    "def nothing(x):\n",
    "    pass"
   ]
  },
  {
   "cell_type": "code",
   "execution_count": 8,
   "metadata": {},
   "outputs": [
    {
     "name": "stderr",
     "output_type": "stream",
     "text": [
      "<ipython-input-6-a70d2acf3331>:5: NumbaWarning: \u001b[1m\n",
      "Compilation is falling back to object mode WITH looplifting enabled because Function \"white_balance\" failed type inference due to: \u001b[1m\u001b[1mUnknown attribute 'cvtColor' of type Module(<module 'cv2.cv2' from '/home/flycher/anaconda3/lib/python3.6/site-packages/cv2/cv2.cpython-36m-x86_64-linux-gnu.so'>)\n",
      "\u001b[1m\n",
      "File \"<ipython-input-6-a70d2acf3331>\", line 9:\u001b[0m\n",
      "\u001b[1mdef white_balance(img, wb):\n",
      "    <source elided>\n",
      "    warm = wb\n",
      "\u001b[1m    result = cv2.cvtColor(img, cv2.COLOR_BGR2LAB)\n",
      "\u001b[0m    \u001b[1m^\u001b[0m\u001b[0m\n",
      "\u001b[0m\n",
      "\u001b[0m\u001b[1m[1] During: typing of get attribute at <ipython-input-6-a70d2acf3331> (9)\u001b[0m\n",
      "\u001b[1m\n",
      "File \"<ipython-input-6-a70d2acf3331>\", line 9:\u001b[0m\n",
      "\u001b[1mdef white_balance(img, wb):\n",
      "    <source elided>\n",
      "    warm = wb\n",
      "\u001b[1m    result = cv2.cvtColor(img, cv2.COLOR_BGR2LAB)\n",
      "\u001b[0m    \u001b[1m^\u001b[0m\u001b[0m\n",
      "\u001b[0m\n",
      "  @numba.jit\n",
      "<ipython-input-6-a70d2acf3331>:5: NumbaWarning: \u001b[1m\n",
      "Compilation is falling back to object mode WITHOUT looplifting enabled because Function \"white_balance\" failed type inference due to: \u001b[1m\u001b[1mcannot determine Numba type of <class 'numba.dispatcher.LiftedLoop'>\u001b[0m\n",
      "\u001b[1m\n",
      "File \"<ipython-input-6-a70d2acf3331>\", line 12:\u001b[0m\n",
      "\u001b[1mdef white_balance(img, wb):\n",
      "    <source elided>\n",
      "    avg_B = np.average(result[:, :, 2])\n",
      "\u001b[1m    for x in range(result.shape[0]):\n",
      "\u001b[0m    \u001b[1m^\u001b[0m\u001b[0m\n",
      "\u001b[0m\u001b[0m\n",
      "  @numba.jit\n",
      "/home/flycher/anaconda3/lib/python3.6/site-packages/numba/object_mode_passes.py:178: NumbaWarning: \u001b[1mFunction \"white_balance\" was compiled in object mode without forceobj=True, but has lifted loops.\n",
      "\u001b[1m\n",
      "File \"<ipython-input-6-a70d2acf3331>\", line 6:\u001b[0m\n",
      "\u001b[1m@numba.jit\n",
      "\u001b[1mdef white_balance(img, wb):\n",
      "\u001b[0m\u001b[1m^\u001b[0m\u001b[0m\n",
      "\u001b[0m\n",
      "  state.func_ir.loc))\n",
      "/home/flycher/anaconda3/lib/python3.6/site-packages/numba/object_mode_passes.py:187: NumbaDeprecationWarning: \u001b[1m\n",
      "Fall-back from the nopython compilation path to the object mode compilation path has been detected, this is deprecated behaviour.\n",
      "\n",
      "For more information visit http://numba.pydata.org/numba-doc/latest/reference/deprecation.html#deprecation-of-object-mode-fall-back-behaviour-when-using-jit\n",
      "\u001b[1m\n",
      "File \"<ipython-input-6-a70d2acf3331>\", line 6:\u001b[0m\n",
      "\u001b[1m@numba.jit\n",
      "\u001b[1mdef white_balance(img, wb):\n",
      "\u001b[0m\u001b[1m^\u001b[0m\u001b[0m\n",
      "\u001b[0m\n",
      "  warnings.warn(errors.NumbaDeprecationWarning(msg, state.func_ir.loc))\n"
     ]
    }
   ],
   "source": [
    "cv2.namedWindow('image')\n",
    "\n",
    "cv2.createTrackbar('White Balance', 'image', 0, 255, nothing)\n",
    "cv2.setTrackbarPos('White Balance', 'image', 127)\n",
    "\n",
    "while True:\n",
    "    k = cv2.waitKey(1) & 0xFF\n",
    "    if k == 27:\n",
    "        cv2.destroyAllWindows()\n",
    "        break\n",
    "        \n",
    "    wb = cv2.getTrackbarPos('White Balance', 'image') / 127.5 - 1\n",
    "    final = np.hstack((im, white_balance(im, wb)))\n",
    "    cv2.imshow('image', final)"
   ]
  },
  {
   "cell_type": "code",
   "execution_count": null,
   "metadata": {},
   "outputs": [],
   "source": []
  }
 ],
 "metadata": {
  "kernelspec": {
   "display_name": "Python 3",
   "language": "python",
   "name": "python3"
  },
  "language_info": {
   "codemirror_mode": {
    "name": "ipython",
    "version": 3
   },
   "file_extension": ".py",
   "mimetype": "text/x-python",
   "name": "python",
   "nbconvert_exporter": "python",
   "pygments_lexer": "ipython3",
   "version": "3.6.7"
  },
  "varInspector": {
   "cols": {
    "lenName": 16,
    "lenType": 16,
    "lenVar": 40
   },
   "kernels_config": {
    "python": {
     "delete_cmd_postfix": "",
     "delete_cmd_prefix": "del ",
     "library": "var_list.py",
     "varRefreshCmd": "print(var_dic_list())"
    },
    "r": {
     "delete_cmd_postfix": ") ",
     "delete_cmd_prefix": "rm(",
     "library": "var_list.r",
     "varRefreshCmd": "cat(var_dic_list()) "
    }
   },
   "types_to_exclude": [
    "module",
    "function",
    "builtin_function_or_method",
    "instance",
    "_Feature"
   ],
   "window_display": false
  }
 },
 "nbformat": 4,
 "nbformat_minor": 4
}
